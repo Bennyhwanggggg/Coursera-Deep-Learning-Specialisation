{
 "cells": [
  {
   "cell_type": "markdown",
   "metadata": {},
   "source": [
    "# Week 8 Quiz - Bird recognition in the city of Peacetopia (case study)"
   ]
  },
  {
   "cell_type": "markdown",
   "metadata": {},
   "source": [
    "## 1.\n",
    "\n",
    "### Problem Statement\n",
    "\n",
    "This example is adapted from a real production application, but with details disguised to protect confidentiality.\n",
    "\n",
    "You are a famous researcher in the City of Peacetopia. The people of Peacetopia have a common characteristic: they are afraid of birds. To save them, you have to build an algorithm that will detect any bird flying over Peacetopia and alert the population.\n",
    "\n",
    "The City Council gives you a dataset of 10,000,000 images of the sky above Peacetopia, taken from the city’s security cameras. They are labelled:\n",
    "\n",
    "* `y = 0`: There is no bird on the image\n",
    "* `y = 1`: There is a bird on the image\n",
    "\n",
    "Your goal is to build an algorithm able to classify new images taken by security cameras from Peacetopia.\n",
    "\n",
    "There are a lot of decisions to make:\n",
    "\n",
    "* What is the evaluation metric?\n",
    "* How do you structure your data into train/dev/test sets?\n",
    "\n",
    "### Metric of success\n",
    "\n",
    "The City Council tells you the following that they want an algorithm that\n",
    "\n",
    "* Has high accuracy\n",
    "* Runs quickly and takes only a short time to classify a new image.\n",
    "* Can fit in a small amount of memory, so that it can run in a small processor that the city will attach to many different security cameras.\n",
    "\n",
    "Note: Having three evaluation metrics makes it harder for you to quickly choose between two different algorithms, and will slow down the speed with which your team can iterate. True/False?\n",
    "\n",
    "- [ ] True\n",
    "- [ ] False"
   ]
  },
  {
   "cell_type": "markdown",
   "metadata": {},
   "source": [
    "## 2.\n",
    "\n",
    "After further discussions, the city narrows down its criteria to:\n",
    "\n",
    "* \"We need an algorithm that can let us know a bird is flying over Peacetopia as accurately as possible.\"\n",
    "* \"We want the trained model to take no more than 10sec to classify a new image.\"\n",
    "* \"We want the model to fit in 10MB of memory.\"\n",
    "\n",
    "If you had the three following models, which one would you choose?\n",
    "\n",
    "- [ ]\n",
    "Test Accuracy: 97%\n",
    "Runtime: 1 sec\n",
    "Memory size: 3MB\n",
    "\n",
    "- [ ]\n",
    "Test Accuracy: 99%\n",
    "Runtime: 13 sec\n",
    "Memory size: 9MB\n",
    "\n",
    "- [ ]\n",
    "Test Accuracy: 97%\n",
    "Runtime: 3 sec\n",
    "Memory size: 2MB\n",
    "\n",
    "- [ ]\n",
    "Test Accuracy: 98%\n",
    "Runtime: 9 sec\n",
    "Memory size: 9MB"
   ]
  },
  {
   "cell_type": "markdown",
   "metadata": {},
   "source": [
    "## 3.\n",
    "\n",
    "Based on the city's requests, which of the following would you say is true?\n",
    "\n",
    "- [ ] Accuracy is an optimizing metric; running time and memory size are a satisficing metrics.\n",
    "- [ ] Accuracy is a satisficing metric; running time and memory size are an optimizing metric.\n",
    "- [ ] Accuracy, running time and memory size are all optimizing metrics because you want to do well on all three.\n",
    "- [ ] Accuracy, running time and memory size are all satisficing metrics because you have to do sufficiently well on all three for your system to be acceptable."
   ]
  },
  {
   "cell_type": "markdown",
   "metadata": {},
   "source": [
    "## 4.\n",
    "\n",
    "### Structuring your data\n",
    "\n",
    "Before implementing your algorithm, you need to split your data into train/dev/test sets. Which of these do you think is the best choice?\n",
    "\n",
    "- [ ] \n",
    "Train: 9,500,000\n",
    "Dev: 250,000\n",
    "Test: 250,000\n",
    "\n",
    "- [ ] \n",
    "Train: 3,333,334\n",
    "Dev: 3,333,333\n",
    "Test: 3,333,333\n",
    "\n",
    "- [ ] \n",
    "Train: 6,000,000\n",
    "Dev: 1,000,000\n",
    "Test: 3,000,000\n",
    "\n",
    "- [ ] \n",
    "Train: 6,000,000\n",
    "Dev: 3,000,000\n",
    "Test: 1,000,000"
   ]
  },
  {
   "cell_type": "markdown",
   "metadata": {},
   "source": [
    "## 5.\n",
    "\n",
    "After setting up your train/dev/test sets, the City Council comes across another 1,000,000 images, called the “citizens’ data”. Apparently the citizens of Peacetopia are so scared of birds that they volunteered to take pictures of the sky and label them, thus contributing these additional 1,000,000 images. These images are different from the distribution of images the City Council had originally given you, but you think it could help your algorithm.\n",
    "\n",
    "You should not add the citizens’ data to the training set, because this will cause the training and dev/test set distributions to become different, thus hurting dev and test set performance. True/False?\n",
    "\n",
    "- [ ] True\n",
    "- [ ] False"
   ]
  },
  {
   "cell_type": "markdown",
   "metadata": {},
   "source": [
    "## 6.\n",
    "\n",
    "One member of the City Council knows a little about machine learning, and thinks you should add the 1,000,000 citizens’ data images to the test set. You object because (Check all that apply):\n",
    "\n",
    "- [ ] The 1,000,000 citizens’ data images do not have a consistent x-->y mapping as the rest of the data (similar to the New York City/Detroit housing prices example from lecture).\n",
    "- [ ] The test set no longer reflects the distribution of data (security cameras) you most care about.\n",
    "- [ ] A bigger test set will slow down the speed of iterating because of the computational expense of evaluating models on the test set.\n",
    "- [ ] This would cause the dev and test set distributions to become different. This is a bad idea because you’re not aiming where you want to hit."
   ]
  },
  {
   "cell_type": "markdown",
   "metadata": {},
   "source": [
    "## 7.\n",
    "\n",
    "You train a system, and its errors are as follows (error = 100%-Accuracy):\n",
    "\n",
    "* Training set error:\t4.0%\n",
    "* Dev set error:\t4.5%\n",
    "\n",
    "This suggests that one good avenue for improving performance is to train a bigger network so as to drive down the 4.0% training error. Do you agree?\n",
    "\n",
    "- [ ] Yes, because having 4.0% training error shows you have high bias.\n",
    "- [ ] Yes, because this shows your bias is higher than your variance.\n",
    "- [ ] No, because this shows your variance is higher than your bias.\n",
    "- [ ] No, because there is insufficient information to tell."
   ]
  },
  {
   "cell_type": "markdown",
   "metadata": {},
   "source": [
    "## 8.\n",
    "\n",
    "You ask a few people to label the dataset so as to find out what is human-level performance. You find the following levels of accuracy:\n",
    "\n",
    "* Bird watching expert #1:\t0.3% error\n",
    "* Bird watching expert #2:\t0.5% error\n",
    "* Normal person #1 (not a bird watching expert):\t1.0% error\n",
    "* Normal person #2 (not a bird watching expert):\t1.2% error\n",
    "\n",
    "If your goal is to have “human-level performance” be a proxy (or estimate) for Bayes error, how would you define “human-level performance”?\n",
    "\n",
    "- [ ] 0.0% (because it is impossible to do better than this)\n",
    "- [ ] 0.3% (accuracy of expert #1)\n",
    "- [ ] 0.4% (average of 0.3 and 0.5)\n",
    "- [ ] 0.75% (average of all four numbers above)"
   ]
  },
  {
   "cell_type": "markdown",
   "metadata": {},
   "source": [
    "## 9.\n",
    "\n",
    "Which of the following statements do you agree with?\n",
    "\n",
    "- [ ] A learning algorithm’s performance can be better than human-level performance but it can never be better than Bayes error.\n",
    "- [ ] A learning algorithm’s performance can never be better than human-level performance but it can be better than Bayes error.\n",
    "- [ ] A learning algorithm’s performance can never be better than human-level performance nor better than Bayes error.\n",
    "- [ ] A learning algorithm’s performance can be better than human-level performance and better than Bayes error."
   ]
  },
  {
   "cell_type": "markdown",
   "metadata": {},
   "source": [
    "## 10.\n",
    "\n",
    "You find that a team of ornithologists debating and discussing an image gets an even better 0.1% performance, so you define that as “human-level performance.” After working further on your algorithm, you end up with the following:\n",
    "\n",
    "* Human-level performance:\t0.1%\n",
    "* Training set error:\t2.0%\n",
    "* Dev set error:\t2.1%\n",
    "\n",
    "Based on the evidence you have, which two of the following four options seem the most promising to try? (Check two options.)\n",
    "\n",
    "- [ ] Try increasing regularization.\n",
    "- [ ] Get a bigger training set to reduce variance.\n",
    "- [ ] Train a bigger model to try to do better on the training set.\n",
    "- [ ] Try decreasing regularization."
   ]
  },
  {
   "cell_type": "markdown",
   "metadata": {},
   "source": [
    "## 11.\n",
    "\n",
    "You also evaluate your model on the test set, and find the following:\n",
    "\n",
    "* Human-level performance:\t0.1%\n",
    "* Training set error:\t2.0%\n",
    "* Dev set error:\t2.1%\n",
    "* Test set error:\t7.0%\n",
    "\n",
    "What does this mean? (Check the two best options.)\n",
    "\n",
    "- [ ] You have overfit to the dev set.\n",
    "- [ ] You should get a bigger test set.\n",
    "- [ ] You have underfit to the dev set.\n",
    "- [ ] You should try to get a bigger dev set."
   ]
  },
  {
   "cell_type": "markdown",
   "metadata": {},
   "source": [
    "## 12.\n",
    "\n",
    "After working on this project for a year, you finally achieve:\n",
    "\n",
    "* Human-level performance:\t0.10%\n",
    "* Training set error:\t0.05%\n",
    "* Dev set error:\t0.05%\n",
    "\n",
    "What can you conclude? (Check all that apply.)\n",
    "\n",
    "- [ ] If the test set is big enough for the 0.05% error estimate to be accurate, this implies Bayes error is ≤0.05\n",
    "- [ ] With only 0.09% further progress to make, you should quickly be able to close the remaining gap to 0%\n",
    "- [ ] It is now harder to measure avoidable bias, thus progress will be slower going forward.\n",
    "- [ ] This is a statistical anomaly (or must be the result of statistical noise) since it should not be possible to surpass human-level performance."
   ]
  },
  {
   "cell_type": "markdown",
   "metadata": {},
   "source": [
    "## 13.\n",
    "\n",
    "It turns out Peacetopia has hired one of your competitors to build a system as well. Your system and your competitor both deliver systems with about the same running time and memory size. However, your system has higher accuracy! However, when Peacetopia tries out your and your competitor’s systems, they conclude they actually like your competitor’s system better, because even though you have higher overall accuracy, you have more false negatives (failing to raise an alarm when a bird is in the air). What should you do?\n",
    "\n",
    "- [ ] Look at all the models you’ve developed during the development process and find the one with the lowest false negative error rate.\n",
    "- [ ] Ask your team to take into account both accuracy and false negative rate during development.\n",
    "- [ ] Rethink the appropriate metric for this task, and ask your team to tune to the new metric.\n",
    "- [ ] Pick false negative rate as the new metric, and use this new metric to drive all further development."
   ]
  },
  {
   "cell_type": "markdown",
   "metadata": {},
   "source": [
    "## 14.\n",
    "\n",
    "You’ve handily beaten your competitor, and your system is now deployed in Peacetopia and is protecting the citizens from birds! But over the last few months, a new species of bird has been slowly migrating into the area, so the performance of your system slowly degrades because your data is being tested on a new type of data.\n",
    "\n",
    "You have only 1,000 images of the new species of bird. The city expects a better system from you within the next 3 months. Which of these should you do first?\n",
    "\n",
    "- [ ] Use the data you have to define a new evaluation metric (using a new dev/test set) taking into account the new species, and use that to drive further progress for your team.\n",
    "- [ ] Put the 1,000 images into the training set so as to try to do better on these birds.\n",
    "- [ ] Try data augmentation/data synthesis to get more images of the new type of bird.\n",
    "- [ ] Add the 1,000 images into your dataset and reshuffle into a new train/dev/test split."
   ]
  },
  {
   "cell_type": "markdown",
   "metadata": {},
   "source": [
    "## 15.\n",
    "\n",
    "The City Council thinks that having more Cats in the city would help scare off birds. They are so happy with your work on the Bird detector that they also hire you to build a Cat detector. (Wow Cat detectors are just incredibly useful aren’t they.) Because of years of working on Cat detectors, you have such a huge dataset of 100,000,000 cat images that training on this data takes about two weeks. Which of the statements do you agree with? (Check all that agree.)\n",
    "\n",
    "- [ ] Having built a good Bird detector, you should be able to take the same model and hyperparameters and just apply it to the Cat dataset, so there is no need to iterate.\n",
    "- [ ] Needing two weeks to train will limit the speed at which you can iterate.\n",
    "- [ ] Buying faster computers could speed up your teams’ iteration speed and thus your team’s productivity.\n",
    "- [ ] If 100,000,000 examples is enough to build a good enough Cat detector, you might be better of training with just 10,000,000 examples to gain a ≈10x improvement in how quickly you can run experiments, even if each model performs a bit worse because it’s trained on less data."
   ]
  }
 ],
 "metadata": {
  "kernelspec": {
   "display_name": "Python 3",
   "language": "python",
   "name": "python3"
  },
  "language_info": {
   "codemirror_mode": {
    "name": "ipython",
    "version": 3
   },
   "file_extension": ".py",
   "mimetype": "text/x-python",
   "name": "python",
   "nbconvert_exporter": "python",
   "pygments_lexer": "ipython3",
   "version": "3.6.4"
  }
 },
 "nbformat": 4,
 "nbformat_minor": 2
}
