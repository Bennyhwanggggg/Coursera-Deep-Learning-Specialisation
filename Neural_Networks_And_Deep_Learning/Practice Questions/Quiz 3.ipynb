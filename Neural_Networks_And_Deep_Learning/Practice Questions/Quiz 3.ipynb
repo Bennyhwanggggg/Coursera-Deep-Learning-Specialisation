{
 "cells": [
  {
   "cell_type": "markdown",
   "metadata": {},
   "source": [
    "# Week 3 Quiz -  Shallow Neural Networks\n"
   ]
  },
  {
   "cell_type": "markdown",
   "metadata": {},
   "source": [
    "## 1. Which of the following are true? (Check all that apply)\n",
    "\n",
    "- [ ] $a^{[2]}$ denotes the activation vector of the 2nd layer.\n",
    "- [ ] $X$ is a matrix in which each column is one training example.\n",
    "- [ ] $a^{[2](12)}$ denotes activation vector of the 12th layer on the 2nd training example.\n",
    "- [ ] $a^{[2]}_4$ is the activation output by the 4th neuron of the 2nd layer\n",
    "- [ ] $a^{[2](12)}$ denotes the activation vector of the 2nd layer for the 12th training example.\n",
    "- [ ] $a^{[2]}_4$ is the activation output of the 2nd layer for the 4th training example\n",
    "- [ ] $X$ is a matrix in which each row is one training example."
   ]
  },
  {
   "cell_type": "markdown",
   "metadata": {},
   "source": [
    "A: $a^{[2](12)}$ denotes the activation vector of the 2nd layer for the 12th training example.\n",
    "\n",
    "A: $a^{[2]}_4$ is the activation output by the 4th neuron of the 2nd layer\n",
    "\n",
    "A: $a^{[2]}$ denotes the activation vector of the 2nd layer.\n",
    "\n",
    "A: $X$ is a matrix in which each row is one training example."
   ]
  },
  {
   "cell_type": "markdown",
   "metadata": {},
   "source": [
    "## 2. The tanh activation usually works better than sigmoid activation function for hidden units because the mean of its output is closer to zero, and so it centers the data better for the next layer. True/False?\n",
    "\n",
    "- [ ] True\n",
    "- [ ] False"
   ]
  },
  {
   "cell_type": "markdown",
   "metadata": {},
   "source": [
    "A: True\n",
    "\n",
    "Explaination: Output of the tanh is between -1 and 1, it thus centers the data which makes the learning simpler for the next layer."
   ]
  },
  {
   "cell_type": "markdown",
   "metadata": {},
   "source": [
    "## 3. Which of these is a correct vectorized implementation of forward propagation for layer $l$, where $1=l=L$?\n",
    "\n",
    "- [ ] $Z^{[l]}=W^{[l]}A^{[l-1]}+b^{[l]}$, $A^{[l]}=g^{[l]}(Z^{[l]})$\n",
    "- [ ] $Z^{[l]}=W^{[l]}A^{[l]}+b^{[l]}$, $A^{[l+1]}=g^{[l]}(Z^{[l]})$\n",
    "- [ ] $Z^{[l]}=W^{[l]}A^{[l]}+b^{[l]}$, $A^{[l+1]}=g^{[l+1]}(Z^{[l]})$\n",
    "- [ ] $Z^{[l]}=W^{[l-1]}A^{[l]}+b^{[l-1]}$, $A^{[l]}=g^{[l]}(Z^{[l]})$"
   ]
  },
  {
   "cell_type": "markdown",
   "metadata": {},
   "source": [
    "A: $Z^{[l]}=W^{[l]}A^{[l-1]}+b^{[l]}$, $A^{[l]}=g^{[l]}(Z^{[l]})$"
   ]
  },
  {
   "cell_type": "markdown",
   "metadata": {},
   "source": [
    "## 4. You are building a binary classifier for recognizing cucumbers ($y=1$) vs. watermelons ($y=0$). Which one of these activation functions would you recommend using for the output layer?\n",
    "\n",
    "- [ ] ReLU\n",
    "- [ ] Leaky ReLU\n",
    "- [ ] sigmoid\n",
    "- [ ] tanh"
   ]
  },
  {
   "cell_type": "markdown",
   "metadata": {},
   "source": [
    "A: sigmoid\n",
    "    \n",
    "Explaination: Sigmoid outputs a value between 1 and 0 which makes it a very good choice for binary classification. You can classify as 0 if the output is less than 0.5 and classify as 1 if the output is more than 0.5. It can be done with tanh as well but less convenient as the output is between -1 and 1"
   ]
  },
  {
   "cell_type": "markdown",
   "metadata": {},
   "source": [
    "## 5. Consider the following code:\n",
    "\n",
    "```\n",
    "A = np.random.randn(4,3)\n",
    "B = np.sum(A, axis = 1, keepdims = True)\n",
    "```\n",
    "\n",
    "What will be `B.shape`? (If you’re not sure, feel free to run this in python to find out).\n",
    "\n",
    "- [ ] `(4, 1)`\n",
    "- [ ] `(4, )`\n",
    "- [ ] `(1, 3)`\n",
    "- [ ] `(, 3)`"
   ]
  },
  {
   "cell_type": "markdown",
   "metadata": {},
   "source": [
    "A: (4, 1)"
   ]
  },
  {
   "cell_type": "markdown",
   "metadata": {},
   "source": [
    "## 6. Suppose you have built a neural network. You decide to initialize the weights and biases to be zero. Which of the following statements is true?\n",
    "\n",
    "- [ ] Each neuron in the first hidden layer will perform the same computation. So even after multiple iterations of gradient descent each neuron in the layer will be computing the same thing as other neurons.\n",
    "- [ ] Each neuron in the first hidden layer will perform the same computation in the first iteration. But after one iteration of gradient descent they will learn to compute different things because we have “broken symmetry”.\n",
    "- [ ] Each neuron in the first hidden layer will compute the same thing, but neurons in different layers will compute different things, thus we have accomplished “symmetry breaking” as described in lecture.\n",
    "- [ ] The first hidden layer’s neurons will perform different computations from each other even in the first iteration; their parameters will thus keep evolving in their own way."
   ]
  },
  {
   "cell_type": "markdown",
   "metadata": {},
   "source": [
    "A: Each neuron in the first hidden layer will perform the same computation. So even after multiple iterations of gradient descent each neuron in the layer will be computing the same thing as other neurons."
   ]
  },
  {
   "cell_type": "markdown",
   "metadata": {},
   "source": [
    "## 7. Logistic regression’s weights $w$ should be initialized randomly rather than to all zeros, because if you initialize to all zeros, then logistic regression will fail to learn a useful decision boundary because it will fail to “break symmetry”, True/False?\n",
    "\n",
    "- [ ] True\n",
    "- [ ] False"
   ]
  },
  {
   "cell_type": "markdown",
   "metadata": {},
   "source": [
    "A: False\n",
    "\n",
    "Explaination: Logistic Regression doesn't have a hidden layer. If you initialize the weights to 0, the first example x fed in the logistic regression will ouput 0 but the derivatives of the Logistic Regression depend on the input x (because there's no hidden layer). So at the second iteration, the weights values follow x's distribution and are different from each other if x is not a constant vector."
   ]
  },
  {
   "cell_type": "markdown",
   "metadata": {},
   "source": [
    "## 8. You have built a network using the tanh activation for all the hidden units. You initialize the weights to relative large values, using `np.random.randn(..,..)*1000`. What will happen?\n",
    "\n",
    "- [ ] It doesn’t matter. So long as you initialize the weights randomly gradient descent is not affected by whether the weights are large or small.\n",
    "- [ ] This will cause the inputs of the tanh to also be very large, causing the units to be “highly activated” and thus speed up learning compared to if the weights had to start from small values.\n",
    "- [ ] This will cause the inputs of the tanh to also be very large, thus causing gradients to be close to zero. The optimization algorithm will thus become slow.\n",
    "- [ ] This will cause the inputs of the tanh to also be very large, thus causing gradients to also become large. You therefore have to set a to be very small to prevent divergence; this will slow down learning."
   ]
  },
  {
   "cell_type": "markdown",
   "metadata": {},
   "source": [
    "A: This will cause the inputs of the tanh to also be very large, thus causing gradients to be close to zero. The optimization algorithm will thus become slow.\n",
    "\n",
    "Explaination: tanh becomes very flat for large values, this leads its gradient to close to zero. This slows down the optimization algorithm."
   ]
  },
  {
   "cell_type": "markdown",
   "metadata": {},
   "source": [
    "## 9. Consider the following 1 hidden layer neural network:\n",
    "\n",
    "<img src=\"images/svogd3rcEeeA3RJRlG3Uqg_76207ca9fa3c209fbf43892870e5338f_1layer.png\"  alt=\"Figure 1\">\n",
    "\n",
    "Which of the following statements are True? (Check all that apply).\n",
    "\n",
    "- [ ] $W^{[1]}$ will have shape `(2, 4)`\n",
    "- [ ] $b^{[1]}$ will have shape `(4, 1)`\n",
    "- [ ] $W^{[1]}$ will have shape `(4, 2)`\n",
    "- [ ] $b^{[1]}$ will have shape `(2, 1)`\n",
    "- [ ] $W^{[2]}$ will have shape `(1, 4)`\n",
    "- [ ] $b^{[2]}$ will have shape `(4, 1)`\n",
    "- [ ] $W^{[2]}$ will have shape `(4, 1)`\n",
    "- [ ] $b^{[2]}$ will have shape `(1, 1)`"
   ]
  },
  {
   "cell_type": "markdown",
   "metadata": {},
   "source": [
    "A: $b^{[1]}$ will have shape `(4, 1)`\n",
    "\n",
    "A: $W^{[1]}$ will have shape `(4, 2)`\n",
    "\n",
    "A: $W^{[2]}$ will have shape `(1, 4)`\n",
    "\n",
    "A: $b^{[2]}$ will have shape `(1, 1)`"
   ]
  },
  {
   "cell_type": "markdown",
   "metadata": {},
   "source": [
    "## 10. In the same network as the previous question, what are the dimensions of $Z^{[1]}$ and $A^{[1]}$?\n",
    "\n",
    "- [ ] $Z^{[1]}$ and $A^{[1]}$ are `(4, m)`\n",
    "- [ ] $Z^{[1]}$ and $A^{[1]}$ are `(1, 4)`\n",
    "- [ ] $Z^{[1]}$ and $A^{[1]}$ are `(4, 1)`\n",
    "- [ ] $Z^{[1]}$ and $A^{[1]}$ are `(4, 2)`"
   ]
  },
  {
   "cell_type": "markdown",
   "metadata": {},
   "source": [
    "A: $Z^{[1]}$ and $A^{[1]}$ are `(4, m)`"
   ]
  },
  {
   "cell_type": "code",
   "execution_count": null,
   "metadata": {},
   "outputs": [],
   "source": []
  }
 ],
 "metadata": {
  "kernelspec": {
   "display_name": "Python 3",
   "language": "python",
   "name": "python3"
  },
  "language_info": {
   "codemirror_mode": {
    "name": "ipython",
    "version": 3
   },
   "file_extension": ".py",
   "mimetype": "text/x-python",
   "name": "python",
   "nbconvert_exporter": "python",
   "pygments_lexer": "ipython3",
   "version": "3.6.5"
  }
 },
 "nbformat": 4,
 "nbformat_minor": 2
}
