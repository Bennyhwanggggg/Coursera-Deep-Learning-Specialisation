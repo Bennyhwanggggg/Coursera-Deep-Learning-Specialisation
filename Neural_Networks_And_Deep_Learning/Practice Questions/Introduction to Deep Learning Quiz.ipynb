{
 "cells": [
  {
   "cell_type": "markdown",
   "metadata": {},
   "source": [
    "# Week 1 Quiz - Introduction to Deep Learning"
   ]
  },
  {
   "cell_type": "markdown",
   "metadata": {},
   "source": [
    "## 1. What does the analogy “AI is the new electricity” refer to?\n",
    "\n",
    "- [ ] AI runs on computers and is thus powered by electricity, but it is letting computers do things not possible before.\n",
    "- [ ] Through the \"smart grid\", AI is delivering a new wave of electricity.\n",
    "- [ ] AI is powering personal devices in our homes and offices, similar to electricity.\n",
    "- [ ] Similar to electricity starting about 100 years ago, AI is transforming multiple industries."
   ]
  },
  {
   "cell_type": "markdown",
   "metadata": {},
   "source": [
    "A:\n",
    "=> Similar to electricity starting about 100 years ago, AI is transforming multiple industries.\n",
    "\n",
    "Explaination: AI is transforming many fields from the car industry to agriculture to supply-chain...\n"
   ]
  },
  {
   "cell_type": "markdown",
   "metadata": {},
   "source": [
    "## 2. Which of these are reasons for Deep Learning recently taking off? (Check the three options that apply.)\n",
    "\n",
    "- [ ] We have access to a lot more computational power.\n",
    "- [ ] Deep learning has resulted in significant improvements in important applications such as online advertising, speech recognition, and image recognition.\n",
    "- [ ] We have access to a lot more data.\n",
    "- [ ] Neural Networks are a brand new field."
   ]
  },
  {
   "cell_type": "markdown",
   "metadata": {},
   "source": [
    "A: We have access to a lot more computational power.\n",
    "\n",
    "Explaination: The development of hardware, perhaps especially GPU computing, has significantly improved deep learning algorithms' performance.\n",
    "\n",
    "A: Deep learning has resulted in significant improvements in important applications such as online advertising, speech recognition, and image recognition.\n",
    "\n",
    "A: We have access to a lot more data."
   ]
  },
  {
   "cell_type": "markdown",
   "metadata": {},
   "source": [
    "## 3. Recall this diagram of iterating over different ML ideas. Which of the statements below are true? (Check all that apply.)\n",
    "\n",
    "<img src=\"images/FalVl3ygEeegaQ4NYTdESg_7a0184575b8bdc47f8c3f29601302cb8_Screen-Shot-2017-08-08-at-6.13.59-PM.png\"  alt=\"Figure 1\" style=\"width: 50%;\">\n",
    "\n",
    "- [ ] Being able to try out ideas quickly allows deep learning engineers to iterate more quickly.\n",
    "- [ ] Faster computation can help speed up how long a team takes to iterate to a good idea. \n",
    "- [ ] It is faster to train on a big dataset than a small dataset.\n",
    "- [ ] Recent progress in deep learning algorithms has allowed us to train good models faster (even without changing the CPU/GPU hardware)."
   ]
  },
  {
   "cell_type": "markdown",
   "metadata": {},
   "source": [
    "A: Being able to try out ideas quickly allows deep learning engineers to iterate more quickly.\n",
    "\n",
    "A: Faster computation can help speed up how long a team takes to iterate to a good idea.\n",
    " \n",
    "A: Recent progress in deep learning algorithms has allowed us to train good models faster (even without changing the CPU/GPU hardware)."
   ]
  },
  {
   "cell_type": "markdown",
   "metadata": {},
   "source": [
    "## 4. When an experienced deep learning engineer works on a new problem, they can usually use insight from previous problems to train a good model on the first try, without needing to iterate multiple times through different models. True/False?\n",
    "\n",
    "- [ ] True\n",
    "- [ ] False"
   ]
  },
  {
   "cell_type": "markdown",
   "metadata": {},
   "source": [
    "A: False\n",
    "\n",
    "Explaination: Finding the characteristics of a model is key to have good performance. Although experience can help, it requires multiple iterations to build a good model."
   ]
  },
  {
   "cell_type": "markdown",
   "metadata": {},
   "source": [
    "## 5. Which one of these plots represents a ReLU activation function?\n",
    "\n",
    "- [ ] Figure 1:    \n",
    "<img src=\"images/rDlJVXGkEeeOXQ7jdzu9Bg_ebe829e5a35b0a8d44b8fe85c7b28f9a_figure-1.png\"  alt=\"Figure 1\" style=\"width: 50%;\">    \n",
    "- [ ] Figure 2:\n",
    "<img src=\"images/fwrRT3GkEee1BBJ2zgI9PA_c3a9e3d21c9e6cad5bb938ba596f94e3_Figure-2.png\"  alt=\"Figure 2\" style=\"width: 50%;\">\n",
    "- [ ] Figure 3:\n",
    "<img src=\"images/sBkbVnGkEee1BBJ2zgI9PA_2e3410579d847b4df4c2cf2691d63d3e_figure3.png\"  alt=\"Figure 3\" style=\"width: 50%;\">    \n",
    "- [ ] Figure 4:\n",
    "<img src=\"images/0GhwpHGkEeewexKhHrUb5g_2e64af1a0d0520a05f4b366bd77328ff_figure4.png\"  alt=\"Figure 4\" style=\"width: 50%;\">\n"
   ]
  },
  {
   "cell_type": "markdown",
   "metadata": {},
   "source": [
    "A: Figure 3"
   ]
  },
  {
   "cell_type": "markdown",
   "metadata": {
    "collapsed": true
   },
   "source": [
    "## 6. Images for cat recognition is an example of “structured” data, because it is represented as a structured array in a computer. True/False?\n",
    "\n",
    "- [ ] True\n",
    "- [ ] False"
   ]
  },
  {
   "cell_type": "markdown",
   "metadata": {},
   "source": [
    "A: False\n",
    "\n",
    "Explaination: Images for cat recognition is an example of “unstructured” data."
   ]
  },
  {
   "cell_type": "markdown",
   "metadata": {},
   "source": [
    "## 7. A demographic dataset with statistics on different cities' population, GDP per capita, economic growth is an example of “unstructured” data because it contains data coming from different sources. True/False?\n",
    "\n",
    "- [ ] True\n",
    "- [ ] False"
   ]
  },
  {
   "cell_type": "markdown",
   "metadata": {},
   "source": [
    "A: False \n",
    "\n",
    "Explaination: A demographic dataset with statistics on different cities' population, GDP per capita, economic growth is an example of “structured” data by opposition to image, audio or text datasets."
   ]
  },
  {
   "cell_type": "markdown",
   "metadata": {},
   "source": [
    "## 8. Why is an RNN (Recurrent Neural Network) used for machine translation, say translating English to French? (Check all that apply.)\n",
    "\n",
    "- [ ] It can be trained as a supervised learning problem.\n",
    "- [ ] It is strictly more powerful than a Convolutional Neural Network (CNN).\n",
    "- [ ] It is applicable when the input/output is a sequence (e.g., a sequence of words).\n",
    "- [ ] RNNs represent the recurrent process of Idea->Code->Experiment->Idea->...."
   ]
  },
  {
   "cell_type": "markdown",
   "metadata": {},
   "source": [
    "A: It can be trained as a supervised learning problem.\n",
    "    \n",
    "A: It is applicable when the input/output is a sequence (e.g., a sequence of words)."
   ]
  },
  {
   "cell_type": "markdown",
   "metadata": {},
   "source": [
    "## 9. In this diagram which we hand-drew in lecture, what do the horizontal axis (x-axis) and vertical axis (y-axis) represent?\n",
    "\n",
    "<img src=\"images/JP--G3ooEeeJIwrF5BVsIg_b60d752c05bec0881d8ca08cfc2646d2_Screen-Shot-2017-08-05-at-2.30.09-PM.png\"  alt=\"Figure 5\" style=\"width: 50%;\">   \n",
    "\n",
    "- [ ] x-axis is the amount of data, y-axis (vertical axis) is the performance of the algorithm\n",
    "- [ ] x-axis is the performance of the algorithm, y-axis (vertical axis) is the amount of data\n",
    "- [ ] x-axis is the amount of data, y-axis is the size of the model you train\n",
    "- [ ] x-axis is the input to the algorithm, y-axis is outputs"
   ]
  },
  {
   "cell_type": "markdown",
   "metadata": {},
   "source": [
    "A: x-axis is the amount of data, y-axis (vertical axis) is the performance of the algorithm"
   ]
  },
  {
   "cell_type": "markdown",
   "metadata": {},
   "source": [
    "## 10. Assuming the trends described in the previous question's figure are accurate (and hoping you got the axis labels right), which of the following are true? (Check all that apply)\n",
    "\n",
    "- [ ] Decreasing the training set size generally does not hurt an algorithm’s performance, and it may help significantly.\n",
    "- [ ] Increasing the training set size generally does not hurt an algorithm’s performance, and it may help significantly.\n",
    "- [ ] Decreasing the size of a neural network generally does not hurt an algorithm’s performance, and it may help significantly.\n",
    "- [ ] Increasing the size of a neural network generally does not hurt an algorithm’s performance, and it may help significantly."
   ]
  },
  {
   "cell_type": "markdown",
   "metadata": {},
   "source": [
    "A: Increasing the size of a neural network generally does not hurt an algorithm’s performance, and it may help significantly.\n",
    "\n",
    "Explaination: According to the trends in the figure above, big networks usually perform better than small networks.\n",
    "\n",
    "A: Increasing the training set size generally does not hurt an algorithm’s performance, and it may help significantly.\n",
    "\n",
    "Explaination: Bringing more data to a model is almost always beneficial"
   ]
  },
  {
   "cell_type": "code",
   "execution_count": null,
   "metadata": {},
   "outputs": [],
   "source": []
  }
 ],
 "metadata": {
  "kernelspec": {
   "display_name": "Python 3",
   "language": "python",
   "name": "python3"
  },
  "language_info": {
   "codemirror_mode": {
    "name": "ipython",
    "version": 3
   },
   "file_extension": ".py",
   "mimetype": "text/x-python",
   "name": "python",
   "nbconvert_exporter": "python",
   "pygments_lexer": "ipython3",
   "version": "3.6.5"
  }
 },
 "nbformat": 4,
 "nbformat_minor": 2
}
