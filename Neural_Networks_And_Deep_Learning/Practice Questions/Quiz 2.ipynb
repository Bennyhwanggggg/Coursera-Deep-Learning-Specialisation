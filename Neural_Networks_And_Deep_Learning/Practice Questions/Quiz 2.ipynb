{
 "cells": [
  {
   "cell_type": "markdown",
   "metadata": {},
   "source": [
    "# Week 2 Quiz - Neural Network Basics"
   ]
  },
  {
   "cell_type": "markdown",
   "metadata": {},
   "source": [
    "## 1. What does a neuron compute?\n",
    "\n",
    "- [ ] A neuron computes a linear function ($z = Wx + b$) followed by an activation function\n",
    "- [ ] A neuron computes the mean of all features before applying the output to an activation function\n",
    "- [ ] A neuron computes a function $g$ that scales the input $x$ linearly ($Wx + b$)\n",
    "- [ ] A neuron computes an activation function followed by a linear function ($z = Wx + b$)"
   ]
  },
  {
   "cell_type": "markdown",
   "metadata": {},
   "source": [
    "## 2. Which of these is the \"Logistic Loss\"?\n",
    "\n",
    "- [ ] $L^{(i)}(\\hat{y}^{(i)},y^{(i)})=max(0,y^{(i)}-\\hat{y}^{(i)})$\n",
    "- [ ] $L^{(i)}(\\hat{y}^{(i)},y^{(i)})=-(y^{(i)}log(\\hat{y}^{(i)})+(1-y^{(i)})log(1-\\hat{y}^{(i)}))$\n",
    "- [ ] $L^{(i)}(\\hat{y}^{(i)},y^{(i)})=|y^{(i)}-\\hat{y}^{(i)}|^2$\n",
    "- [ ] $L^{(i)}(\\hat{y}^{(i)},y^{(i)})=|y^{(i)}-\\hat{y}^{(i)}|$\n"
   ]
  },
  {
   "cell_type": "markdown",
   "metadata": {},
   "source": [
    "## 3. Suppose img is a (32,32,3) array, representing a 32x32 image with 3 color channels red, green and blue. How do you reshape this into a column vector?\n",
    "\n",
    "- [ ] `x = img.reshape((32*32,3))`\n",
    "- [ ] `x = img.reshape((3,32*32))`\n",
    "- [ ] `x = img.reshape((1,32*32,*3))`\n",
    "- [ ] `x = img.reshape((32*32*3,1))`"
   ]
  },
  {
   "cell_type": "markdown",
   "metadata": {},
   "source": [
    "## 4. Consider the two following random arrays \"a\" and \"b\":\n",
    "\n",
    "```\n",
    "a = np.random.randn(2, 3) # a.shape = (2, 3)\n",
    "b = np.random.randn(2, 1) # b.shape = (2, 1)\n",
    "c = a + b\n",
    "```\n",
    "\n",
    "What will be the shape of \"`c`\"?\n",
    "\n",
    "- [ ] `c.shape = (2, 3)`\n",
    "- [ ] `c.shape = (2, 1)`\n",
    "- [ ] The computation cannot happen because the sizes don't match. It's going to be \"Error\"!\n",
    "- [ ] `c.shape = (3, 2)`"
   ]
  },
  {
   "cell_type": "markdown",
   "metadata": {},
   "source": [
    "## 5. Consider the two following random arrays \"a\" and \"b\":\n",
    "\n",
    "```\n",
    "a = np.random.randn(4, 3) # a.shape = (4, 3)\n",
    "b = np.random.randn(3, 2) # b.shape = (3, 2)\n",
    "c = a * b\n",
    "```\n",
    "\n",
    "What will be the shape of \"`c`\"?\n",
    "\n",
    "- [ ] `c.shape = (4, 3)`\n",
    "- [ ] `c.shape = (4, 2)`\n",
    "- [ ] The computation cannot happen because the sizes don't match. It's going to be \"Error\"!\n",
    "- [ ] `c.shape = (3, 3)`"
   ]
  },
  {
   "cell_type": "markdown",
   "metadata": {},
   "source": [
    "## 6. Suppose you have $n_x$ input features per example. Recall that $X=[x^{(1)}x^{(2)}...x^{(m)}]$. What is the dimension of X?\n",
    "\n",
    "- [ ] $(m, 1)$\n",
    "- [ ] $(1, m)$\n",
    "- [ ] $(n_x, m)$\n",
    "- [ ] $(m, n_x)$"
   ]
  },
  {
   "cell_type": "markdown",
   "metadata": {},
   "source": [
    "## 7. Recall that \"np.dot(a,b)\" performs a matrix multiplication on a and b, whereas \"a*b\" performs an element-wise multiplication.\n",
    "\n",
    "Consider the two following random arrays \"a\" and \"b\":\n",
    "\n",
    "```\n",
    "a = np.random.randn(12288, 150) # a.shape = (12288, 150)\n",
    "b = np.random.randn(150, 45) # b.shape = (150, 45)\n",
    "c = np.dot(a, b)\n",
    "```\n",
    "\n",
    "What is the shape of \"`c`\"?\n",
    "\n",
    "- [ ] `c.shape = (150, 150)`\n",
    "- [ ] `c.shape = (12288, 45)`\n",
    "- [ ] The computation cannot happen because the sizes don't match. It's going to be \"Error\"!\n",
    "- [ ] `c.shape = (12288, 150)`"
   ]
  },
  {
   "cell_type": "markdown",
   "metadata": {},
   "source": [
    "## 8. Consider the following code snippet:\n",
    "\n",
    "```\n",
    "# a.shape = (3,4)\n",
    "# b.shape = (4,1)\n",
    "    \n",
    "for i in range(3):\n",
    "  for j in range(4):\n",
    "    c[i][j] = a[i][j] + b[j]\n",
    "```\n",
    "\n",
    "How do you vectorize this?\n",
    "\n",
    "- [ ] `c = a.T + b`\n",
    "- [ ] `c = a.T + b.T`\n",
    "- [ ] `c = a + b`\n",
    "- [ ] `c = a + b.T`"
   ]
  },
  {
   "cell_type": "markdown",
   "metadata": {},
   "source": [
    "## 9. Consider the following code:\n",
    "\n",
    "```\n",
    "a = np.random.randn(3, 3)\n",
    "b = np.random.randn(3, 1)\n",
    "c = a*b\n",
    "    ```\n",
    "\n",
    "What will be c? (If you’re not sure, feel free to run this in python to find out).\n",
    "\n",
    "- [ ] This will invoke broadcasting, so `b` is copied three times to become `(3,3)`, and `*` is an element-wise product so `c.shape` will be `(3, 3)`\n",
    "- [ ] This will invoke broadcasting, so `b` is copied three times to become `(3, 3)`, and `*` invokes a matrix multiplication operation of two 3x3 matrices so `c.shape` will be `(3, 3)`\n",
    "- [ ] This will multiply a 3x3 matrix a with a 3x1 vector, thus resulting in a 3x1 vector. That is, `c.shape = (3,1)`.\n",
    "- [ ] It will lead to an error since you cannot use \"`*`\" to operate on these two matrices. You need to instead use `np.dot(a,b)`"
   ]
  },
  {
   "cell_type": "markdown",
   "metadata": {},
   "source": [
    "## 10. Consider the following computation graph:\n",
    "\n",
    "<img src=\"images/CLczrXpHEeeA3RJRlG3Uqg_3c66355aff0ae7db9e27206f188267f0_Screen-Shot-2017-08-05-at-6.30.51-PM.png\"  alt=\"Figure 1\" style=\"width: 50%;\">\n",
    "\n",
    "What is the output `J`?\n",
    "\n",
    "- [ ] `J = (c - 1) * (b + a)`\n",
    "- [ ] `J = (a - 1) * (b + c)`\n",
    "- [ ] `J = a*b + b*c + a*c`\n",
    "- [ ] `J = (b - 1) * (c + a)`"
   ]
  }
 ],
 "metadata": {
  "kernelspec": {
   "display_name": "Python 3",
   "language": "python",
   "name": "python3"
  },
  "language_info": {
   "codemirror_mode": {
    "name": "ipython",
    "version": 3
   },
   "file_extension": ".py",
   "mimetype": "text/x-python",
   "name": "python",
   "nbconvert_exporter": "python",
   "pygments_lexer": "ipython3",
   "version": "3.6.3"
  }
 },
 "nbformat": 4,
 "nbformat_minor": 2
}
