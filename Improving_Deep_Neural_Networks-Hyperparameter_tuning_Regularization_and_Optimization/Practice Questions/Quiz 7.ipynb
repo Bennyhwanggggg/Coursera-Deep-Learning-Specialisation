{
 "cells": [
  {
   "cell_type": "markdown",
   "metadata": {},
   "source": [
    "# Week 7 Quiz - Hyperparameter tuning, Batch Normalization, Programming Frameworks"
   ]
  },
  {
   "cell_type": "markdown",
   "metadata": {},
   "source": [
    "## 1. If searching among a large number of hyperparameters, you should try values in a grid rather than random values, so that you can carry out the search more systematically and not rely on chance. True or False?\n",
    "\n",
    "- [ ] True\n",
    "- [ ] False"
   ]
  },
  {
   "cell_type": "markdown",
   "metadata": {},
   "source": [
    "A: False\n",
    "\n",
    "Explaination: Try random values, don't do grid search. Because you don't know which hyperparamerters are more important than others.\n",
    "\n",
    "And to take an extreme example, let's say that hyperparameter two was that value epsilon that you have in the denominator of the Adam algorithm. So your choice of alpha matters a lot and your choice of epsilon hardly matters."
   ]
  },
  {
   "cell_type": "markdown",
   "metadata": {},
   "source": [
    "## 2. Every hyperparameter, if set poorly, can have a huge negative impact on training, and so all hyperparameters are about equally important to tune well. True or False?\n",
    "\n",
    "- [ ] True\n",
    "- [ ] False"
   ]
  },
  {
   "cell_type": "markdown",
   "metadata": {},
   "source": [
    "A: False\n",
    "\n",
    "Explaination: We've seen in lecture that some hyperparameters, such as the learning rate, are more critical than others."
   ]
  },
  {
   "cell_type": "markdown",
   "metadata": {},
   "source": [
    "## 3. During hyperparameter search, whether you try to babysit one model (“Panda” strategy) or train a lot of models in parallel (“Caviar”) is largely determined by:\n",
    "\n",
    "- [ ] Whether you use batch or mini-batch optimization\n",
    "- [ ] The presence of local minima (and saddle points) in your neural network\n",
    "- [ ] The amount of computational power you can access\n",
    "- [ ] The number of hyperparameters you have to tune"
   ]
  },
  {
   "cell_type": "markdown",
   "metadata": {},
   "source": [
    "A: The amount of computational power you can access"
   ]
  },
  {
   "cell_type": "markdown",
   "metadata": {},
   "source": [
    "## 4. If you think $\\beta$ (hyperparameter for momentum) is between on 0.9 and 0.99, which of the following is the recommended way to sample a value for beta?\n",
    "\n",
    "- [ ] `r = np.random.rand()\n",
    "    beta = r*0.09 + 0.9`\n",
    "- [ ] `r = np.random.rand()\n",
    "    beta = 1-10**(- r - 1)`\n",
    "- [ ] `r = np.random.rand()\n",
    "    beta = 1-10**(- r + 1)`\n",
    "- [ ] `r = np.random.rand()\n",
    "    beta = r*0.9 + 0.09`"
   ]
  },
  {
   "cell_type": "markdown",
   "metadata": {},
   "source": [
    "A:\n",
    "```\n",
    "r = np.random.rand()\n",
    "beta = 1-10**(- r - 1)\n",
    "```"
   ]
  },
  {
   "cell_type": "markdown",
   "metadata": {},
   "source": [
    "## 5. Finding good hyperparameter values is very time-consuming. So typically you should do it once at the start of the project, and try to find very good hyperparameters so that you don’t ever have to revisit tuning them again. True or false?\n",
    "\n",
    "- [ ] True\n",
    "- [ ] False"
   ]
  },
  {
   "cell_type": "markdown",
   "metadata": {},
   "source": [
    "A: False\n",
    "\n",
    "Explaination: Minor changes in your model could potentially need you to find good hyperparameters again from scratch."
   ]
  },
  {
   "cell_type": "markdown",
   "metadata": {},
   "source": [
    "## 6. In batch normalization as presented in the videos, if you apply it on the $l$-th layer of your neural network, what are you normalizing?\n",
    "\n",
    "- [ ] $b^{[l]}$\n",
    "- [ ] $W^{[l]}$\n",
    "- [ ] $z^{[l]}$\n",
    "- [ ] $a^{[l]}$"
   ]
  },
  {
   "cell_type": "markdown",
   "metadata": {},
   "source": [
    "A: $z^{[l]}$"
   ]
  },
  {
   "cell_type": "markdown",
   "metadata": {},
   "source": [
    "## 7. In the normalization formula $z_{norm}^{(i)} = \\frac{z^{(i)} - \\mu}{\\sqrt{\\sigma^{2} + \\epsilon}}$, why do we use epsilon?\n",
    "\n",
    "- [ ] To speed up convergence\n",
    "- [ ] In case $\\mu$ is too small\n",
    "- [ ] To avoid division by zero\n",
    "- [ ] To have a more accurate normalization"
   ]
  },
  {
   "cell_type": "markdown",
   "metadata": {},
   "source": [
    "A: To avoid division by zero"
   ]
  },
  {
   "cell_type": "markdown",
   "metadata": {},
   "source": [
    "## 8. Which of the following statements about $\\gamma$ and $\\beta$ in Batch Norm are true?\n",
    "\n",
    "- [ ] They can be learned using Adam, Gradient descent with momentum, or RMSprop, not just with gradient descent.\n",
    "- [ ] They set the mean and variance of the linear variable $z^{[l]}$ of a given layer.\n",
    "- [ ] $\\beta$ and $\\gamma$ are hyperparameters of the algorithm, which we tune via random sampling.\n",
    "- [ ] The optimal values are $\\gamma = \\sqrt{\\sigma^{2} + \\epsilon}$, and $\\beta = \\mu$.\n",
    "- [ ] There is one global value of $\\gamma \\in R$ and one global value of $\\beta \\in R$ for each layer, and applies to all the hidden units in that layer."
   ]
  },
  {
   "cell_type": "markdown",
   "metadata": {},
   "source": [
    "A: They set the mean and variance of the linear variable $z^{[l]}$ of a given layer.\n",
    "\n",
    "A: They can be learned using Adam, Gradient descent with momentum, or RMSprop, not just with gradient descent."
   ]
  },
  {
   "cell_type": "markdown",
   "metadata": {},
   "source": [
    "## 9. After training a neural network with Batch Norm, at test time, to evaluate the neural network on a new example you should:\n",
    "\n",
    "- [ ] If you implemented Batch Norm on mini-batches of (say) 256 examples, then to evaluate on one test example, duplicate that example 256 times so that you’re working with a mini-batch the same size as during training.\n",
    "- [ ] Skip the step where you normalize using $\\mu$ and $\\sigma^{2}$ since a single test example cannot be normalized.\n",
    "- [ ] Use the most recent mini-batch’s value of $\\mu$ and $\\sigma^{2}$ to perform the needed normalizations.\n",
    "- [ ] Perform the needed normalizations, use $\\mu$ and $\\sigma^{2}$ estimated using an exponentially weighted average across mini-batches seen during training."
   ]
  },
  {
   "cell_type": "markdown",
   "metadata": {},
   "source": [
    "A: Perform the needed normalizations, use  μ  and  σ2  estimated using an exponentially weighted average across mini-batches seen during training."
   ]
  },
  {
   "cell_type": "markdown",
   "metadata": {},
   "source": [
    "## 10. Which of these statements about deep learning programming frameworks are true? (Check all that apply)\n",
    "\n",
    "- [ ] Even if a project is currently open source, good governance of the project helps ensure that the it remains open even in the long term, rather than become closed or modified to benefit only one company.\n",
    "- [ ] Deep learning programming frameworks require cloud-based machines to run.\n",
    "- [ ] A programming framework allows you to code up deep learning algorithms with typically fewer lines of code than a lower-level language such as Python. "
   ]
  },
  {
   "cell_type": "markdown",
   "metadata": {},
   "source": [
    "A: Even if a project is currently open source, good governance of the project helps ensure that the it remains open even in the long term, rather than become closed or modified to benefit only one company.\n",
    "\n",
    "A: A programming framework allows you to code up deep learning algorithms with typically fewer lines of code than a lower-level language such as Python."
   ]
  },
  {
   "cell_type": "code",
   "execution_count": null,
   "metadata": {},
   "outputs": [],
   "source": []
  }
 ],
 "metadata": {
  "kernelspec": {
   "display_name": "Python 3",
   "language": "python",
   "name": "python3"
  },
  "language_info": {
   "codemirror_mode": {
    "name": "ipython",
    "version": 3
   },
   "file_extension": ".py",
   "mimetype": "text/x-python",
   "name": "python",
   "nbconvert_exporter": "python",
   "pygments_lexer": "ipython3",
   "version": "3.6.5"
  }
 },
 "nbformat": 4,
 "nbformat_minor": 2
}
